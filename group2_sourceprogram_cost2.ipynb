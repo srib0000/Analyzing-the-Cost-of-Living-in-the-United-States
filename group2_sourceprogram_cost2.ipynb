{
  "nbformat": 4,
  "nbformat_minor": 0,
  "metadata": {
    "colab": {
      "provenance": []
    },
    "kernelspec": {
      "name": "python3",
      "display_name": "Python 3"
    },
    "language_info": {
      "name": "python"
    }
  },
  "cells": [
    {
      "cell_type": "code",
      "execution_count": 4,
      "metadata": {
        "colab": {
          "base_uri": "https://localhost:8080/"
        },
        "id": "w_jeCQ299XGP",
        "outputId": "393769aa-a2de-4085-c2d6-10908c4581c2"
      },
      "outputs": [
        {
          "output_type": "stream",
          "name": "stdout",
          "text": [
            "Mean Squared Error: 2416151.70\n",
            "R2 Score: 0.99\n",
            "Model and scaler saved successfully!\n"
          ]
        }
      ],
      "source": [
        "# Import necessary libraries\n",
        "import pandas as pd\n",
        "import numpy as np\n",
        "from sklearn.tree import DecisionTreeRegressor\n",
        "from sklearn.model_selection import train_test_split\n",
        "from sklearn.preprocessing import StandardScaler\n",
        "from sklearn.metrics import mean_squared_error, r2_score\n",
        "import joblib\n",
        "\n",
        "# Define the Gradient Boosting Regressor class\n",
        "class GradientBoostingRegressorScratch:\n",
        "    def __init__(self, n_estimators=100, learning_rate=0.1, max_depth=3):\n",
        "        self.n_estimators = n_estimators\n",
        "        self.learning_rate = learning_rate\n",
        "        self.max_depth = max_depth\n",
        "        self.trees = []\n",
        "        self.initial_prediction = None\n",
        "\n",
        "    def fit(self, X, y):\n",
        "        # Initialize predictions with the mean of the target variable\n",
        "        self.initial_prediction = np.mean(y)\n",
        "        predictions = np.full(y.shape, self.initial_prediction)\n",
        "        for _ in range(self.n_estimators):\n",
        "            residuals = y - predictions\n",
        "            tree = DecisionTreeRegressor(max_depth=self.max_depth)\n",
        "            tree.fit(X, residuals)\n",
        "            self.trees.append(tree)\n",
        "            predictions += self.learning_rate * tree.predict(X)\n",
        "\n",
        "    def predict(self, X):\n",
        "        predictions = np.full(X.shape[0], self.initial_prediction)\n",
        "        for tree in self.trees:\n",
        "            predictions += self.learning_rate * tree.predict(X)\n",
        "        return predictions\n",
        "\n",
        "# Load the dataset\n",
        "data = pd.read_csv(\"cost_of_living_us.csv\")\n",
        "\n",
        "# Define the selected features and target variable\n",
        "features = ['food_cost', 'other_necessities_cost', 'childcare_cost', 'taxes', 'healthcare_cost']\n",
        "target = 'total_cost'\n",
        "\n",
        "# Preprocess data\n",
        "X = data[features]\n",
        "y = data[target]\n",
        "\n",
        "# Handle missing values\n",
        "X = X.fillna(X.median())\n",
        "\n",
        "# Standardize the features\n",
        "scaler = StandardScaler()\n",
        "X_scaled = scaler.fit_transform(X)\n",
        "\n",
        "# Split the dataset\n",
        "X_train, X_test, y_train, y_test = train_test_split(X_scaled, y, test_size=0.2, random_state=42)\n",
        "\n",
        "# Train the Gradient Boosting model\n",
        "model = GradientBoostingRegressorScratch(n_estimators=100, learning_rate=0.1, max_depth=3)\n",
        "model.fit(X_train, y_train)\n",
        "\n",
        "# Save the model and scaler\n",
        "joblib.dump(model, \"cost_of_living_model.pkl\")\n",
        "joblib.dump(scaler, \"scaler.pkl\")\n",
        "\n",
        "# Evaluate the model\n",
        "y_pred = model.predict(X_test)\n",
        "mse = mean_squared_error(y_test, y_pred)\n",
        "r2 = r2_score(y_test, y_pred)\n",
        "\n",
        "print(f\"Mean Squared Error: {mse:.2f}\")\n",
        "print(f\"R2 Score: {r2:.2f}\")\n",
        "\n",
        "print(\"Model and scaler saved successfully!\")\n"
      ]
    }
  ]
}